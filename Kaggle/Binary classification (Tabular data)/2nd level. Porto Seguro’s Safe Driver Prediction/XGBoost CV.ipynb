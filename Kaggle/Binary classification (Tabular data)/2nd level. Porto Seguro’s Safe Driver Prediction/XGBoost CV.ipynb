{
 "cells": [
  {
   "cell_type": "code",
   "execution_count": 1,
   "id": "869dbc4a",
   "metadata": {},
   "outputs": [],
   "source": [
    "MAX_ROUNDS = 400\n",
    "OPTIMIZE_ROUNDS = False\n",
    "LEARNING_RATE = 0.07\n",
    "EARLY_STOPPING_ROUNDS = 50  "
   ]
  },
  {
   "cell_type": "markdown",
   "id": "a830566d",
   "metadata": {},
   "source": [
    "- 처음에는 MAX_ROUNDS를 높게 설정하고, OPTIMIZE_ROUNDS를 사용하여 적절한 ROUND 수에 대한 아이디어를 얻는 것을 추천"
   ]
  },
  {
   "cell_type": "code",
   "execution_count": 2,
   "id": "9694a2aa",
   "metadata": {},
   "outputs": [],
   "source": [
    "import numpy as np\n",
    "import pandas as pd\n",
    "from xgboost import XGBClassifier\n",
    "from sklearn.model_selection import train_test_split\n",
    "from sklearn.model_selection import KFold\n",
    "from sklearn.preprocessing import LabelEncoder\n",
    "from numba import jit\n",
    "import time\n",
    "import gc"
   ]
  },
  {
   "cell_type": "code",
   "execution_count": 3,
   "id": "d97356a1",
   "metadata": {},
   "outputs": [],
   "source": [
    "# gini 계산\n",
    "def eval_gini(y_true, y_prob):\n",
    "    y_true = np.asarray(y_true)\n",
    "    y_true = y_true[np.argsort(y_prob)]\n",
    "    ntrue = 0\n",
    "    gini = 0\n",
    "    delta = 0\n",
    "    n = len(y_true)\n",
    "    for i in range(n-1, -1, -1):\n",
    "        y_i = y_true[i]\n",
    "        ntrue += y_i\n",
    "        gini += y_i * delta\n",
    "        delta += 1 - y_i\n",
    "    gini = 1 - 2 * gini / (ntrue * (n - ntrue))\n",
    "    return gini"
   ]
  },
  {
   "cell_type": "code",
   "execution_count": 18,
   "id": "9ba800bc",
   "metadata": {},
   "outputs": [],
   "source": [
    "def gini_xgb(preds, dtrain):\n",
    "    labels = dtrain.get_label()\n",
    "    gini_score = -eval_gini(labels, preds)\n",
    "    return [('gini', gini_score)]\n",
    "\n",
    "\n",
    "def add_noise(series, noise_level):\n",
    "    return series * (1 + noise_level * np.random.randn(len(series)))\n",
    "\n",
    "\n",
    "def target_encode(trn_series = None,\n",
    "                  val_series = None,\n",
    "                  tst_series = None,\n",
    "                  target = None,\n",
    "                  min_samples_leaf = 1,\n",
    "                  smoothing = 1,\n",
    "                  noise_level = 0):\n",
    "\n",
    "    assert len(trn_series) == len(target)\n",
    "    assert trn_series.name == tst_series.name\n",
    "    temp = pd.concat([trn_series, target], axis=1)\n",
    "    \n",
    "    # target 평균 계산\n",
    "    averages = temp.groupby(by=trn_series.name)[target.name].agg([\"mean\", \"count\"])\n",
    "    \n",
    "    # smoothing 계산\n",
    "    smoothing = 1 / (1 + np.exp(-(averages[\"count\"] - min_samples_leaf) / smoothing))\n",
    "    \n",
    "    # 모든 target data에 평균 함수 적용\n",
    "    prior = target.mean()\n",
    "    \n",
    "    # 카운트가 클 수록 full_avg가 덜 고려\n",
    "    averages[target.name] = prior * (1 - smoothing) + averages[\"mean\"] * smoothing\n",
    "    averages.drop([\"mean\", \"count\"], axis=1, inplace=True)\n",
    "    \n",
    "    # train, test series에 averages 적용\n",
    "    ft_trn_series = pd.merge(\n",
    "        trn_series.to_frame(trn_series.name),\n",
    "        averages.reset_index().rename(columns={'index': target.name, target.name: 'average'}),\n",
    "        on=trn_series.name,\n",
    "        how='left')['average'].rename(trn_series.name + '_mean').fillna(prior)\n",
    "    # pd.merge는 인덱스를 유지하지 않으므로 복원해야함\n",
    "    ft_trn_series.index = trn_series.index \n",
    "    \n",
    "    ft_val_series = pd.merge(\n",
    "        val_series.to_frame(val_series.name),\n",
    "        averages.reset_index().rename(columns={'index': target.name, target.name: 'average'}),\n",
    "        on=val_series.name,\n",
    "        how='left')['average'].rename(trn_series.name + '_mean').fillna(prior)\n",
    "    # pd.merge는 인덱스를 유지하지 않으므로 복원해야함\n",
    "    ft_val_series.index = val_series.index \n",
    "    \n",
    "    ft_tst_series = pd.merge(\n",
    "        tst_series.to_frame(tst_series.name),\n",
    "        averages.reset_index().rename(columns={'index': target.name, target.name: 'average'}),\n",
    "        on=tst_series.name,\n",
    "        how='left')['average'].rename(trn_series.name + '_mean').fillna(prior)\n",
    "    # pd.merge는 인덱스를 유지하지 않으므로 복원해야함\n",
    "    ft_tst_series.index = tst_series.index\n",
    "    \n",
    "    return add_noise(ft_trn_series, noise_level), add_noise(ft_val_series, noise_level), add_noise(ft_tst_series, noise_level)"
   ]
  },
  {
   "cell_type": "code",
   "execution_count": 19,
   "id": "8775f8a9",
   "metadata": {},
   "outputs": [],
   "source": [
    "train_df = pd.read_csv('Porto_train.csv', na_values='-1')\n",
    "test_df = pd.read_csv('Porto_test.csv', na_values='-1')"
   ]
  },
  {
   "cell_type": "code",
   "execution_count": 20,
   "id": "84cf075f",
   "metadata": {},
   "outputs": [],
   "source": [
    "train_features = [\n",
    "    \"ps_car_13\",\n",
    "    \"ps_reg_03\",\n",
    "    \"ps_ind_05_cat\",\n",
    "    \"ps_ind_03\", \n",
    "    \"ps_ind_15\", \n",
    "    \"ps_reg_02\", \n",
    "    \"ps_car_14\", \n",
    "    \"ps_car_12\", \n",
    "    \"ps_car_01_cat\",  \n",
    "    \"ps_car_07_cat\",\n",
    "    \"ps_ind_17_bin\",\n",
    "    \"ps_car_03_cat\", \n",
    "    \"ps_reg_01\", \n",
    "    \"ps_car_15\", \n",
    "    \"ps_ind_01\", \n",
    "    \"ps_ind_16_bin\",\n",
    "    \"ps_ind_07_bin\",\n",
    "    \"ps_car_06_cat\",\n",
    "    \"ps_car_04_cat\", \n",
    "    \"ps_ind_06_bin\", \n",
    "    \"ps_car_09_cat\", \n",
    "    \"ps_car_02_cat\",  \n",
    "    \"ps_ind_02_cat\",\n",
    "    \"ps_car_11\",\n",
    "    \"ps_car_05_cat\",\n",
    "    \"ps_calc_09\",\n",
    "    \"ps_calc_05\",\n",
    "    \"ps_ind_08_bin\",\n",
    "    \"ps_car_08_cat\",\n",
    "    \"ps_ind_09_bin\", \n",
    "    \"ps_ind_04_cat\", \n",
    "    \"ps_ind_18_bin\",\n",
    "    \"ps_ind_12_bin\",\n",
    "    \"ps_ind_14\"]\n",
    "\n",
    "combs = [\n",
    "    ('ps_reg_01', 'ps_car_02_cat'),  \n",
    "    ('ps_reg_01', 'ps_car_04_cat')]"
   ]
  },
  {
   "cell_type": "code",
   "execution_count": 21,
   "id": "1e3b50f9",
   "metadata": {},
   "outputs": [
    {
     "name": "stdout",
     "output_type": "stream",
     "text": [
      "current feature                                 ps_reg_01_plus_ps_car_04_cat    2 in   0.1"
     ]
    }
   ],
   "source": [
    "id_test = test_df['id'].values\n",
    "id_train = train_df['id'].values\n",
    "y = train_df['target']\n",
    "\n",
    "start = time.time()\n",
    "for n_c, (f1, f2) in enumerate(combs):\n",
    "    name1 = f1 + \"_plus_\" + f2\n",
    "    print('current feature %60s %4d in %5.1f' % (name1, n_c + 1, (time.time() - start) / 60), end='')\n",
    "    print('\\r' * 75, end='')\n",
    "    train_df[name1] = train_df[f1].apply(lambda x: str(x)) + \"_\" + train_df[f2].apply(lambda x: str(x))\n",
    "    test_df[name1] = test_df[f1].apply(lambda x: str(x)) + \"_\" + test_df[f2].apply(lambda x: str(x))\n",
    "    # 라벨 인코딩\n",
    "    lbl = LabelEncoder()\n",
    "    lbl.fit(list(train_df[name1].values) + list(test_df[name1].values))\n",
    "    train_df[name1] = lbl.transform(list(train_df[name1].values))\n",
    "    test_df[name1] = lbl.transform(list(test_df[name1].values))\n",
    "\n",
    "    train_features.append(name1)\n",
    "    \n",
    "X = train_df[train_features]\n",
    "test_df = test_df[train_features]\n",
    "\n",
    "f_cats = [f for f in X.columns if '_cat' in f]"
   ]
  },
  {
   "cell_type": "code",
   "execution_count": 22,
   "id": "f542fd69",
   "metadata": {},
   "outputs": [],
   "source": [
    "y_valid_pred = 0 * y\n",
    "y_test_pred = 0"
   ]
  },
  {
   "cell_type": "code",
   "execution_count": 23,
   "id": "b8ecb5ff",
   "metadata": {},
   "outputs": [],
   "source": [
    "# 폴드 설정\n",
    "K = 5\n",
    "kf = KFold(n_splits=K, random_state=1, shuffle=True)\n",
    "np.random.seed(0)"
   ]
  },
  {
   "cell_type": "code",
   "execution_count": 24,
   "id": "53028335",
   "metadata": {},
   "outputs": [],
   "source": [
    "# classifier 설정\n",
    "model = XGBClassifier(n_estimators = MAX_ROUNDS,\n",
    "                      max_depth = 4,\n",
    "                      objective = 'binary:logistic',\n",
    "                      learning_rate = LEARNING_RATE,\n",
    "                      subsample = .8,\n",
    "                      min_child_weight = 6,\n",
    "                      colsample_bytree = .8,\n",
    "                      scale_pos_weight = 1.6, \n",
    "                      gamma = 10,\n",
    "                      reg_alpha = 8, \n",
    "                      reg_lambda = 1.3)"
   ]
  },
  {
   "cell_type": "code",
   "execution_count": 25,
   "id": "86b900c3",
   "metadata": {},
   "outputs": [
    {
     "name": "stdout",
     "output_type": "stream",
     "text": [
      "\n",
      " Fold 0\n",
      "Gini =  0.2851065280442412\n",
      "\n",
      " Fold 1\n",
      "Gini =  0.28185495483845957\n",
      "\n",
      " Fold 2\n",
      "Gini =  0.2742993177535197\n",
      "\n",
      " Fold 3\n",
      "Gini =  0.29892986639933017\n",
      "\n",
      " Fold 4\n",
      "Gini =  0.2857903122299573\n",
      "\n",
      " Gini for full training set:\n"
     ]
    },
    {
     "data": {
      "text/plain": [
       "0.28496053325938575"
      ]
     },
     "execution_count": 25,
     "metadata": {},
     "output_type": "execute_result"
    }
   ],
   "source": [
    "for i, (train_index, test_index) in enumerate(kf.split(train_df)):\n",
    "    \n",
    "    # 이 폴드에 대한 데이터 생성\n",
    "    y_train, y_valid = y.iloc[train_index].copy(), y.iloc[test_index]\n",
    "    X_train, X_valid = X.iloc[train_index, :].copy(), X.iloc[test_index, :].copy()\n",
    "    X_test = test_df.copy()\n",
    "    print('\\n Fold', i)\n",
    "    \n",
    "    # 데이터 인코딩\n",
    "    for f in f_cats:\n",
    "        X_train[f + '_avg'], X_valid[f + '_avg'], X_test[f + '_avg'] = target_encode(\n",
    "                                                        trn_series = X_train[f],\n",
    "                                                        val_series = X_valid[f],\n",
    "                                                        tst_series = X_test[f],\n",
    "                                                        target = y_train,\n",
    "                                                        min_samples_leaf = 200,\n",
    "                                                        smoothing = 10,\n",
    "                                                        noise_level = 0)\n",
    "        \n",
    "    # 이 폴드에 대한 모델 수행\n",
    "    if OPTIMIZE_ROUNDS:\n",
    "        eval_set=[(X_valid,y_valid)]\n",
    "        fit_model = model.fit( X_train, y_train, \n",
    "                               eval_set = eval_set,\n",
    "                               eval_metric = gini_xgb,\n",
    "                               early_stopping_rounds = EARLY_STOPPING_ROUNDS,\n",
    "                               verbose = False)\n",
    "        print('Best N trees = ', model.best_ntree_limit)\n",
    "        print('Best gini = ', model.best_score)\n",
    "    else:\n",
    "        fit_model = model.fit(X_train, y_train)\n",
    "        \n",
    "    # 이 폴드에 대한 validation 예측값 생성\n",
    "    pred = fit_model.predict_proba(X_valid)[:, 1]\n",
    "    print('Gini = ', eval_gini(y_valid, pred))\n",
    "    y_valid_pred.iloc[test_index] = pred\n",
    "    \n",
    "    # 테스트 세트 예측값 계산\n",
    "    y_test_pred += fit_model.predict_proba(X_test)[:, 1]\n",
    "    \n",
    "    del X_test, X_train, X_valid, y_train\n",
    "    \n",
    "y_test_pred /= K  # 테스트 세트 예측값 평균\n",
    "\n",
    "print('\\n Gini for full training set:')\n",
    "eval_gini(y, y_valid_pred)"
   ]
  },
  {
   "cell_type": "code",
   "execution_count": 26,
   "id": "7db214b5",
   "metadata": {},
   "outputs": [],
   "source": [
    "# stacking/ensembling에 대한 validation 예측값 저장\n",
    "val = pd.DataFrame()\n",
    "val['id'] = id_train\n",
    "val['target'] = y_valid_pred.values\n",
    "val.to_csv('xgb_valid.csv', float_format='%.6f', index=False)"
   ]
  },
  {
   "cell_type": "code",
   "execution_count": 27,
   "id": "ba7372f8",
   "metadata": {},
   "outputs": [],
   "source": [
    "# submission file 생성\n",
    "sub = pd.DataFrame()\n",
    "sub['id'] = id_test\n",
    "sub['target'] = y_test_pred\n",
    "sub.to_csv('xgb_submit.csv', float_format='%.6f', index=False)"
   ]
  }
 ],
 "metadata": {
  "kernelspec": {
   "display_name": "Python 3",
   "language": "python",
   "name": "python3"
  },
  "language_info": {
   "codemirror_mode": {
    "name": "ipython",
    "version": 3
   },
   "file_extension": ".py",
   "mimetype": "text/x-python",
   "name": "python",
   "nbconvert_exporter": "python",
   "pygments_lexer": "ipython3",
   "version": "3.8.8"
  }
 },
 "nbformat": 4,
 "nbformat_minor": 5
}
